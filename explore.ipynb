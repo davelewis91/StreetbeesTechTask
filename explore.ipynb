{
 "metadata": {
  "language_info": {
   "codemirror_mode": {
    "name": "ipython",
    "version": 3
   },
   "file_extension": ".py",
   "mimetype": "text/x-python",
   "name": "python",
   "nbconvert_exporter": "python",
   "pygments_lexer": "ipython3",
   "version": "3.8.5-final"
  },
  "orig_nbformat": 2,
  "kernelspec": {
   "name": "python3",
   "display_name": "Python 3",
   "language": "python"
  }
 },
 "nbformat": 4,
 "nbformat_minor": 2,
 "cells": [
  {
   "cell_type": "code",
   "execution_count": 1,
   "metadata": {},
   "outputs": [],
   "source": [
    "import pandas as pd"
   ]
  },
  {
   "cell_type": "code",
   "execution_count": 60,
   "metadata": {},
   "outputs": [],
   "source": [
    "data = pd.read_csv('data.csv')"
   ]
  },
  {
   "cell_type": "code",
   "execution_count": 3,
   "metadata": {},
   "outputs": [
    {
     "output_type": "execute_result",
     "data": {
      "text/plain": [
       "   Class                               Name\n",
       "0      1                   E. D. Abbott Ltd\n",
       "1      1                     Schwan-Stabilo\n",
       "2      1                         Q-workshop\n",
       "3      1  Marvell Software Solutions Israel\n",
       "4      1        Bergan Mercy Medical Center"
      ],
      "text/html": "<div>\n<style scoped>\n    .dataframe tbody tr th:only-of-type {\n        vertical-align: middle;\n    }\n\n    .dataframe tbody tr th {\n        vertical-align: top;\n    }\n\n    .dataframe thead th {\n        text-align: right;\n    }\n</style>\n<table border=\"1\" class=\"dataframe\">\n  <thead>\n    <tr style=\"text-align: right;\">\n      <th></th>\n      <th>Class</th>\n      <th>Name</th>\n    </tr>\n  </thead>\n  <tbody>\n    <tr>\n      <th>0</th>\n      <td>1</td>\n      <td>E. D. Abbott Ltd</td>\n    </tr>\n    <tr>\n      <th>1</th>\n      <td>1</td>\n      <td>Schwan-Stabilo</td>\n    </tr>\n    <tr>\n      <th>2</th>\n      <td>1</td>\n      <td>Q-workshop</td>\n    </tr>\n    <tr>\n      <th>3</th>\n      <td>1</td>\n      <td>Marvell Software Solutions Israel</td>\n    </tr>\n    <tr>\n      <th>4</th>\n      <td>1</td>\n      <td>Bergan Mercy Medical Center</td>\n    </tr>\n  </tbody>\n</table>\n</div>"
     },
     "metadata": {},
     "execution_count": 3
    }
   ],
   "source": [
    "data.head()"
   ]
  },
  {
   "cell_type": "code",
   "execution_count": 4,
   "metadata": {},
   "outputs": [
    {
     "output_type": "execute_result",
     "data": {
      "text/plain": [
       "        Name\n",
       "Class       \n",
       "1      40000\n",
       "2      40000\n",
       "3      40000\n",
       "4      40000\n",
       "5      40000\n",
       "6      40000\n",
       "7      40000\n",
       "8      40000\n",
       "9      40000\n",
       "10     40000\n",
       "11     40000\n",
       "12     40000\n",
       "13     40000\n",
       "14     28787"
      ],
      "text/html": "<div>\n<style scoped>\n    .dataframe tbody tr th:only-of-type {\n        vertical-align: middle;\n    }\n\n    .dataframe tbody tr th {\n        vertical-align: top;\n    }\n\n    .dataframe thead th {\n        text-align: right;\n    }\n</style>\n<table border=\"1\" class=\"dataframe\">\n  <thead>\n    <tr style=\"text-align: right;\">\n      <th></th>\n      <th>Name</th>\n    </tr>\n    <tr>\n      <th>Class</th>\n      <th></th>\n    </tr>\n  </thead>\n  <tbody>\n    <tr>\n      <th>1</th>\n      <td>40000</td>\n    </tr>\n    <tr>\n      <th>2</th>\n      <td>40000</td>\n    </tr>\n    <tr>\n      <th>3</th>\n      <td>40000</td>\n    </tr>\n    <tr>\n      <th>4</th>\n      <td>40000</td>\n    </tr>\n    <tr>\n      <th>5</th>\n      <td>40000</td>\n    </tr>\n    <tr>\n      <th>6</th>\n      <td>40000</td>\n    </tr>\n    <tr>\n      <th>7</th>\n      <td>40000</td>\n    </tr>\n    <tr>\n      <th>8</th>\n      <td>40000</td>\n    </tr>\n    <tr>\n      <th>9</th>\n      <td>40000</td>\n    </tr>\n    <tr>\n      <th>10</th>\n      <td>40000</td>\n    </tr>\n    <tr>\n      <th>11</th>\n      <td>40000</td>\n    </tr>\n    <tr>\n      <th>12</th>\n      <td>40000</td>\n    </tr>\n    <tr>\n      <th>13</th>\n      <td>40000</td>\n    </tr>\n    <tr>\n      <th>14</th>\n      <td>28787</td>\n    </tr>\n  </tbody>\n</table>\n</div>"
     },
     "metadata": {},
     "execution_count": 4
    }
   ],
   "source": [
    "data.groupby('Class').count()"
   ]
  },
  {
   "cell_type": "code",
   "execution_count": 18,
   "metadata": {},
   "outputs": [
    {
     "output_type": "execute_result",
     "data": {
      "text/plain": [
       "        Class                                     Name\n",
       "520000     14                          Kaiketsu Zorori\n",
       "520001     14                  How to Live (biography)\n",
       "520002     14        I Can Do Bad All by Myself (play)\n",
       "520003     14                         The Tree Butcher\n",
       "520004     14                      The First Sir Percy\n",
       "...       ...                                      ...\n",
       "548782     14           The Worst Band in the Universe\n",
       "548783     14                    Poor Arnold's Almanac\n",
       "548784     14  The Girls' Guide to Hunting and Fishing\n",
       "548785     14       Wash This Blood Clean from My Hand\n",
       "548786     14       Virginia Environmental Law Journal\n",
       "\n",
       "[28787 rows x 2 columns]"
      ],
      "text/html": "<div>\n<style scoped>\n    .dataframe tbody tr th:only-of-type {\n        vertical-align: middle;\n    }\n\n    .dataframe tbody tr th {\n        vertical-align: top;\n    }\n\n    .dataframe thead th {\n        text-align: right;\n    }\n</style>\n<table border=\"1\" class=\"dataframe\">\n  <thead>\n    <tr style=\"text-align: right;\">\n      <th></th>\n      <th>Class</th>\n      <th>Name</th>\n    </tr>\n  </thead>\n  <tbody>\n    <tr>\n      <th>520000</th>\n      <td>14</td>\n      <td>Kaiketsu Zorori</td>\n    </tr>\n    <tr>\n      <th>520001</th>\n      <td>14</td>\n      <td>How to Live (biography)</td>\n    </tr>\n    <tr>\n      <th>520002</th>\n      <td>14</td>\n      <td>I Can Do Bad All by Myself (play)</td>\n    </tr>\n    <tr>\n      <th>520003</th>\n      <td>14</td>\n      <td>The Tree Butcher</td>\n    </tr>\n    <tr>\n      <th>520004</th>\n      <td>14</td>\n      <td>The First Sir Percy</td>\n    </tr>\n    <tr>\n      <th>...</th>\n      <td>...</td>\n      <td>...</td>\n    </tr>\n    <tr>\n      <th>548782</th>\n      <td>14</td>\n      <td>The Worst Band in the Universe</td>\n    </tr>\n    <tr>\n      <th>548783</th>\n      <td>14</td>\n      <td>Poor Arnold's Almanac</td>\n    </tr>\n    <tr>\n      <th>548784</th>\n      <td>14</td>\n      <td>The Girls' Guide to Hunting and Fishing</td>\n    </tr>\n    <tr>\n      <th>548785</th>\n      <td>14</td>\n      <td>Wash This Blood Clean from My Hand</td>\n    </tr>\n    <tr>\n      <th>548786</th>\n      <td>14</td>\n      <td>Virginia Environmental Law Journal</td>\n    </tr>\n  </tbody>\n</table>\n<p>28787 rows × 2 columns</p>\n</div>"
     },
     "metadata": {},
     "execution_count": 18
    }
   ],
   "source": [
    "data[data.Class == 14]"
   ]
  },
  {
   "cell_type": "code",
   "execution_count": 8,
   "metadata": {},
   "outputs": [
    {
     "output_type": "execute_result",
     "data": {
      "text/plain": [
       "        Class                     Name\n",
       "80000       3         Erin Morgenstern\n",
       "80001       3           Samta Benyahia\n",
       "80002       3           Morton Stevens\n",
       "80003       3  Esfandiar Monfaredzadeh\n",
       "80004       3              Cao Baoping\n",
       "...       ...                      ...\n",
       "119995      3  Andrew Irvine (bassist)\n",
       "119996      3             Dave Reffett\n",
       "119997      3    Clémentine (musician)\n",
       "119998      3             Colin Linden\n",
       "119999      3            Shahar Marcus\n",
       "\n",
       "[40000 rows x 2 columns]"
      ],
      "text/html": "<div>\n<style scoped>\n    .dataframe tbody tr th:only-of-type {\n        vertical-align: middle;\n    }\n\n    .dataframe tbody tr th {\n        vertical-align: top;\n    }\n\n    .dataframe thead th {\n        text-align: right;\n    }\n</style>\n<table border=\"1\" class=\"dataframe\">\n  <thead>\n    <tr style=\"text-align: right;\">\n      <th></th>\n      <th>Class</th>\n      <th>Name</th>\n    </tr>\n  </thead>\n  <tbody>\n    <tr>\n      <th>80000</th>\n      <td>3</td>\n      <td>Erin Morgenstern</td>\n    </tr>\n    <tr>\n      <th>80001</th>\n      <td>3</td>\n      <td>Samta Benyahia</td>\n    </tr>\n    <tr>\n      <th>80002</th>\n      <td>3</td>\n      <td>Morton Stevens</td>\n    </tr>\n    <tr>\n      <th>80003</th>\n      <td>3</td>\n      <td>Esfandiar Monfaredzadeh</td>\n    </tr>\n    <tr>\n      <th>80004</th>\n      <td>3</td>\n      <td>Cao Baoping</td>\n    </tr>\n    <tr>\n      <th>...</th>\n      <td>...</td>\n      <td>...</td>\n    </tr>\n    <tr>\n      <th>119995</th>\n      <td>3</td>\n      <td>Andrew Irvine (bassist)</td>\n    </tr>\n    <tr>\n      <th>119996</th>\n      <td>3</td>\n      <td>Dave Reffett</td>\n    </tr>\n    <tr>\n      <th>119997</th>\n      <td>3</td>\n      <td>Clémentine (musician)</td>\n    </tr>\n    <tr>\n      <th>119998</th>\n      <td>3</td>\n      <td>Colin Linden</td>\n    </tr>\n    <tr>\n      <th>119999</th>\n      <td>3</td>\n      <td>Shahar Marcus</td>\n    </tr>\n  </tbody>\n</table>\n<p>40000 rows × 2 columns</p>\n</div>"
     },
     "metadata": {},
     "execution_count": 8
    }
   ],
   "source": [
    "data[data.Class == 3]"
   ]
  },
  {
   "cell_type": "code",
   "execution_count": 44,
   "metadata": {},
   "outputs": [],
   "source": [
    "from utils import preprocess_data"
   ]
  },
  {
   "cell_type": "code",
   "execution_count": 45,
   "metadata": {},
   "outputs": [],
   "source": [
    "pp_data = preprocess_data(data)"
   ]
  },
  {
   "cell_type": "code",
   "execution_count": 46,
   "metadata": {},
   "outputs": [
    {
     "output_type": "execute_result",
     "data": {
      "text/plain": [
       "   Class                               Name\n",
       "0      1                     e d abbott ltd\n",
       "1      1                     schwan-stabilo\n",
       "2      1                         q-workshop\n",
       "3      1  marvell software solutions israel\n",
       "4      1        bergan mercy medical center"
      ],
      "text/html": "<div>\n<style scoped>\n    .dataframe tbody tr th:only-of-type {\n        vertical-align: middle;\n    }\n\n    .dataframe tbody tr th {\n        vertical-align: top;\n    }\n\n    .dataframe thead th {\n        text-align: right;\n    }\n</style>\n<table border=\"1\" class=\"dataframe\">\n  <thead>\n    <tr style=\"text-align: right;\">\n      <th></th>\n      <th>Class</th>\n      <th>Name</th>\n    </tr>\n  </thead>\n  <tbody>\n    <tr>\n      <th>0</th>\n      <td>1</td>\n      <td>e d abbott ltd</td>\n    </tr>\n    <tr>\n      <th>1</th>\n      <td>1</td>\n      <td>schwan-stabilo</td>\n    </tr>\n    <tr>\n      <th>2</th>\n      <td>1</td>\n      <td>q-workshop</td>\n    </tr>\n    <tr>\n      <th>3</th>\n      <td>1</td>\n      <td>marvell software solutions israel</td>\n    </tr>\n    <tr>\n      <th>4</th>\n      <td>1</td>\n      <td>bergan mercy medical center</td>\n    </tr>\n  </tbody>\n</table>\n</div>"
     },
     "metadata": {},
     "execution_count": 46
    }
   ],
   "source": [
    "pp_data.head()"
   ]
  },
  {
   "cell_type": "code",
   "execution_count": 55,
   "metadata": {},
   "outputs": [],
   "source": [
    "ncounts = pp_data.groupby('Name').count()"
   ]
  },
  {
   "cell_type": "code",
   "execution_count": 56,
   "metadata": {},
   "outputs": [
    {
     "output_type": "execute_result",
     "data": {
      "text/plain": [
       "                       Class\n",
       "Name                        \n",
       "a album                    2\n",
       "al manara tower            2\n",
       "al rai                     2\n",
       "alphabet book              2\n",
       "an inconvenient truth      2\n",
       "...                      ...\n",
       "victory ship               2\n",
       "vips                       2\n",
       "word magazine              2\n",
       "you                        2\n",
       "youre only young once      2\n",
       "\n",
       "[97 rows x 1 columns]"
      ],
      "text/html": "<div>\n<style scoped>\n    .dataframe tbody tr th:only-of-type {\n        vertical-align: middle;\n    }\n\n    .dataframe tbody tr th {\n        vertical-align: top;\n    }\n\n    .dataframe thead th {\n        text-align: right;\n    }\n</style>\n<table border=\"1\" class=\"dataframe\">\n  <thead>\n    <tr style=\"text-align: right;\">\n      <th></th>\n      <th>Class</th>\n    </tr>\n    <tr>\n      <th>Name</th>\n      <th></th>\n    </tr>\n  </thead>\n  <tbody>\n    <tr>\n      <th>a album</th>\n      <td>2</td>\n    </tr>\n    <tr>\n      <th>al manara tower</th>\n      <td>2</td>\n    </tr>\n    <tr>\n      <th>al rai</th>\n      <td>2</td>\n    </tr>\n    <tr>\n      <th>alphabet book</th>\n      <td>2</td>\n    </tr>\n    <tr>\n      <th>an inconvenient truth</th>\n      <td>2</td>\n    </tr>\n    <tr>\n      <th>...</th>\n      <td>...</td>\n    </tr>\n    <tr>\n      <th>victory ship</th>\n      <td>2</td>\n    </tr>\n    <tr>\n      <th>vips</th>\n      <td>2</td>\n    </tr>\n    <tr>\n      <th>word magazine</th>\n      <td>2</td>\n    </tr>\n    <tr>\n      <th>you</th>\n      <td>2</td>\n    </tr>\n    <tr>\n      <th>youre only young once</th>\n      <td>2</td>\n    </tr>\n  </tbody>\n</table>\n<p>97 rows × 1 columns</p>\n</div>"
     },
     "metadata": {},
     "execution_count": 56
    }
   ],
   "source": [
    "ncounts[ncounts.Class > 1]"
   ]
  },
  {
   "cell_type": "code",
   "execution_count": 59,
   "metadata": {},
   "outputs": [
    {
     "output_type": "execute_result",
     "data": {
      "text/plain": [
       "     Class                    Name\n",
       "0        1                 genicom\n",
       "1        1                 genicom\n",
       "2        1                interjet\n",
       "3        1                interjet\n",
       "4        1                    elvo\n",
       "..     ...                     ...\n",
       "189     14                  al rai\n",
       "190     14         boys love manga\n",
       "191     14         boys love manga\n",
       "192     14  the liberator magazine\n",
       "193     14  the liberator magazine\n",
       "\n",
       "[194 rows x 2 columns]"
      ],
      "text/html": "<div>\n<style scoped>\n    .dataframe tbody tr th:only-of-type {\n        vertical-align: middle;\n    }\n\n    .dataframe tbody tr th {\n        vertical-align: top;\n    }\n\n    .dataframe thead th {\n        text-align: right;\n    }\n</style>\n<table border=\"1\" class=\"dataframe\">\n  <thead>\n    <tr style=\"text-align: right;\">\n      <th></th>\n      <th>Class</th>\n      <th>Name</th>\n    </tr>\n  </thead>\n  <tbody>\n    <tr>\n      <th>0</th>\n      <td>1</td>\n      <td>genicom</td>\n    </tr>\n    <tr>\n      <th>1</th>\n      <td>1</td>\n      <td>genicom</td>\n    </tr>\n    <tr>\n      <th>2</th>\n      <td>1</td>\n      <td>interjet</td>\n    </tr>\n    <tr>\n      <th>3</th>\n      <td>1</td>\n      <td>interjet</td>\n    </tr>\n    <tr>\n      <th>4</th>\n      <td>1</td>\n      <td>elvo</td>\n    </tr>\n    <tr>\n      <th>...</th>\n      <td>...</td>\n      <td>...</td>\n    </tr>\n    <tr>\n      <th>189</th>\n      <td>14</td>\n      <td>al rai</td>\n    </tr>\n    <tr>\n      <th>190</th>\n      <td>14</td>\n      <td>boys love manga</td>\n    </tr>\n    <tr>\n      <th>191</th>\n      <td>14</td>\n      <td>boys love manga</td>\n    </tr>\n    <tr>\n      <th>192</th>\n      <td>14</td>\n      <td>the liberator magazine</td>\n    </tr>\n    <tr>\n      <th>193</th>\n      <td>14</td>\n      <td>the liberator magazine</td>\n    </tr>\n  </tbody>\n</table>\n<p>194 rows × 2 columns</p>\n</div>"
     },
     "metadata": {},
     "execution_count": 59
    }
   ],
   "source": [
    "pp_data.merge(ncounts[ncounts.Class > 1].reset_index()['Name'], on='Name')"
   ]
  },
  {
   "cell_type": "code",
   "execution_count": 69,
   "metadata": {},
   "outputs": [
    {
     "output_type": "execute_result",
     "data": {
      "text/plain": [
       "       Class   Name\n",
       "32436      1  VIP's"
      ],
      "text/html": "<div>\n<style scoped>\n    .dataframe tbody tr th:only-of-type {\n        vertical-align: middle;\n    }\n\n    .dataframe tbody tr th {\n        vertical-align: top;\n    }\n\n    .dataframe thead th {\n        text-align: right;\n    }\n</style>\n<table border=\"1\" class=\"dataframe\">\n  <thead>\n    <tr style=\"text-align: right;\">\n      <th></th>\n      <th>Class</th>\n      <th>Name</th>\n    </tr>\n  </thead>\n  <tbody>\n    <tr>\n      <th>32436</th>\n      <td>1</td>\n      <td>VIP's</td>\n    </tr>\n  </tbody>\n</table>\n</div>"
     },
     "metadata": {},
     "execution_count": 69
    }
   ],
   "source": [
    "data[data.Name.str.lower().str.contains(\"vip's\")]"
   ]
  },
  {
   "cell_type": "code",
   "execution_count": null,
   "metadata": {},
   "outputs": [],
   "source": []
  },
  {
   "cell_type": "code",
   "execution_count": 72,
   "metadata": {},
   "outputs": [
    {
     "output_type": "execute_result",
     "data": {
      "text/plain": [
       "[{'Class': 1, 'Name': 'E. D. Abbott Ltd'},\n",
       " {'Class': 1, 'Name': 'Schwan-Stabilo'},\n",
       " {'Class': 1, 'Name': 'Q-workshop'},\n",
       " {'Class': 1, 'Name': 'Marvell Software Solutions Israel'},\n",
       " {'Class': 1, 'Name': 'Bergan Mercy Medical Center'}]"
      ]
     },
     "metadata": {},
     "execution_count": 72
    }
   ],
   "source": [
    "data.head().to_dict(orient='records')"
   ]
  },
  {
   "cell_type": "code",
   "execution_count": null,
   "metadata": {},
   "outputs": [],
   "source": []
  },
  {
   "cell_type": "code",
   "execution_count": null,
   "metadata": {},
   "outputs": [],
   "source": []
  }
 ]
}